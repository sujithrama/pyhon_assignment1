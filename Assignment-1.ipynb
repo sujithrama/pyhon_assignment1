{
 "cells": [
  {
   "cell_type": "code",
   "execution_count": 26,
   "metadata": {},
   "outputs": [
    {
     "name": "stdout",
     "output_type": "stream",
     "text": [
      "0.30000000000000004\n",
      "1.82\n",
      "True\n",
      "False\n",
      "Predict Output .....\n"
     ]
    }
   ],
   "source": [
    "print(0.1+0.2)\n",
    "print(\"1.8\"+\"2\")\n",
    "print(87>78)\n",
    "print((0.1+0.2)==0.3)\n",
    "print(\"Predict \" \"Output\" ,\".....\")"
   ]
  },
  {
   "cell_type": "code",
   "execution_count": 9,
   "metadata": {},
   "outputs": [
    {
     "name": "stdout",
     "output_type": "stream",
     "text": [
      "Prints multiple messages\n",
      "\n",
      "Concatenate  two strings\n",
      "\n"
     ]
    },
    {
     "ename": "TypeError",
     "evalue": "unsupported operand type(s) for +: 'int' and 'str'",
     "output_type": "error",
     "traceback": [
      "\u001b[1;31m---------------------------------------------------------------------------\u001b[0m",
      "\u001b[1;31mTypeError\u001b[0m                                 Traceback (most recent call last)",
      "\u001b[1;32m<ipython-input-9-8dfb88e8fb09>\u001b[0m in \u001b[0;36m<module>\u001b[1;34m\u001b[0m\n\u001b[0;32m      1\u001b[0m \u001b[0mprint\u001b[0m\u001b[1;33m(\u001b[0m\u001b[1;34m\"Prints\"\u001b[0m\u001b[1;33m,\u001b[0m\u001b[1;34m\"multiple\"\u001b[0m\u001b[1;33m,\u001b[0m\u001b[1;34m\"messages\\n\"\u001b[0m\u001b[1;33m)\u001b[0m\u001b[1;33m\u001b[0m\u001b[1;33m\u001b[0m\u001b[0m\n\u001b[0;32m      2\u001b[0m \u001b[0mprint\u001b[0m\u001b[1;33m(\u001b[0m\u001b[1;34m\"Concatenate \"\u001b[0m\u001b[1;33m+\u001b[0m\u001b[1;34m\" two strings\\n\"\u001b[0m\u001b[1;33m)\u001b[0m\u001b[1;33m\u001b[0m\u001b[1;33m\u001b[0m\u001b[0m\n\u001b[1;32m----> 3\u001b[1;33m \u001b[0mprint\u001b[0m\u001b[1;33m(\u001b[0m\u001b[1;36m5\u001b[0m\u001b[1;33m+\u001b[0m\u001b[1;36m6\u001b[0m\u001b[1;33m+\u001b[0m\u001b[1;34m\" adds two numbers\\n\"\u001b[0m\u001b[1;33m)\u001b[0m\u001b[1;33m\u001b[0m\u001b[1;33m\u001b[0m\u001b[0m\n\u001b[0m",
      "\u001b[1;31mTypeError\u001b[0m: unsupported operand type(s) for +: 'int' and 'str'"
     ]
    }
   ],
   "source": [
    "print(\"Prints\",\"multiple\",\"messages\\n\")\n",
    "print(\"Concatenate \"+\" two strings\\n\")\n",
    "print(5+6+\" adds two numbers\\n\")"
   ]
  },
  {
   "cell_type": "code",
   "execution_count": 10,
   "metadata": {},
   "outputs": [
    {
     "name": "stdout",
     "output_type": "stream",
     "text": [
      "banana\n",
      "C:\\naresh\\raju\\abhi\n"
     ]
    }
   ],
   "source": [
    "print(\"ba\"+\"na\"*2)\n",
    "print(r\"C:\\naresh\\raju\\abhi\")"
   ]
  },
  {
   "cell_type": "code",
   "execution_count": 11,
   "metadata": {},
   "outputs": [
    {
     "name": "stdout",
     "output_type": "stream",
     "text": [
      "g anytoW\n",
      "sscc\n"
     ]
    }
   ],
   "source": [
    "print('Welcome to Python traing program'[-4::-4])\n",
    "print('A series of characters designated as one object known as a string'[2:18:5])"
   ]
  },
  {
   "cell_type": "code",
   "execution_count": 12,
   "metadata": {},
   "outputs": [
    {
     "name": "stdout",
     "output_type": "stream",
     "text": [
      "tsnntj oaens eahfsr \n",
      "---------\n",
      "ot emoc\n"
     ]
    }
   ],
   "source": [
    "print('A series of characters designated as one object known as string'[::-1][4::3])\n",
    "print('---------')\n",
    "print('Welcome to Python traing program'[3:10][::-1])"
   ]
  },
  {
   "cell_type": "code",
   "execution_count": 13,
   "metadata": {},
   "outputs": [
    {
     "name": "stdout",
     "output_type": "stream",
     "text": [
      "True\n",
      "False\n"
     ]
    }
   ],
   "source": [
    "str1=True\n",
    "x=5>3\n",
    "print(str1==x)\n",
    "y=5>8\n",
    "print(str1==y)"
   ]
  },
  {
   "cell_type": "code",
   "execution_count": 14,
   "metadata": {},
   "outputs": [
    {
     "name": "stdout",
     "output_type": "stream",
     "text": [
      "True\n"
     ]
    }
   ],
   "source": [
    "num=7\n",
    "Name=\"Michael Jackson\"\n",
    "sear_num=Name.find('el')\n",
    "print(num>sear_num)"
   ]
  },
  {
   "cell_type": "code",
   "execution_count": 15,
   "metadata": {},
   "outputs": [
    {
     "name": "stdout",
     "output_type": "stream",
     "text": [
      "was it is a car or cat I saw\n",
      "WAS I TAC RO RAC A SI TI SAW\n"
     ]
    }
   ],
   "source": [
    "p_phrase=input()\n",
    "p_phrase=p_phrase.upper()\n",
    "print(p_phrase[::-1])"
   ]
  },
  {
   "cell_type": "code",
   "execution_count": 16,
   "metadata": {},
   "outputs": [
    {
     "name": "stdout",
     "output_type": "stream",
     "text": [
      "1934567\n",
      "946\n"
     ]
    }
   ],
   "source": [
    "A=input()\n",
    "print(A[1::2])"
   ]
  },
  {
   "cell_type": "code",
   "execution_count": 17,
   "metadata": {},
   "outputs": [
    {
     "name": "stdout",
     "output_type": "stream",
     "text": [
      "['EKIL', 'GNIDAERPS', 'ROF', 'KCANK']\n"
     ]
    }
   ],
   "source": [
    "fake_phrase=\"Fake news has a knack for spreading like wild fire\"\n",
    "fake_phrase=fake_phrase.upper()[-11:-35:-1]\n",
    "x=fake_phrase.split()\n",
    "print(x)"
   ]
  },
  {
   "cell_type": "code",
   "execution_count": 18,
   "metadata": {},
   "outputs": [
    {
     "name": "stdout",
     "output_type": "stream",
     "text": [
      "['Facebook', 'already', 'uses', 'AI', 'to', 'Filter', 'Fake', 'stories', 'from', 'the', 'feeds', 'of', 'users']\n"
     ]
    }
   ],
   "source": [
    "msg1=\"Facebook already uses AI to Filter Fake stories from the feeds of users\"\n",
    "print(msg1.split())"
   ]
  },
  {
   "cell_type": "code",
   "execution_count": 19,
   "metadata": {},
   "outputs": [
    {
     "data": {
      "text/plain": [
       "' rs ot'"
      ]
     },
     "execution_count": 19,
     "metadata": {},
     "output_type": "execute_result"
    }
   ],
   "source": [
    "msg2=\"Welcome to sr engineering college\"\n",
    "x=msg2.count('o')\n",
    "y=msg2.count('r')\n",
    "msg2[y**x:(x**y+x+y):][::-1]\n"
   ]
  },
  {
   "cell_type": "code",
   "execution_count": 21,
   "metadata": {},
   "outputs": [
    {
     "data": {
      "text/plain": [
       "True"
      ]
     },
     "execution_count": 21,
     "metadata": {},
     "output_type": "execute_result"
    }
   ],
   "source": [
    "num1,num2=\"94\",\"30\"\n",
    "data=\"As per Census 2011, Gender ratio of India is 943 females per 1000 males\"\n",
    "num1+num2[0] in data"
   ]
  },
  {
   "cell_type": "code",
   "execution_count": 22,
   "metadata": {},
   "outputs": [
    {
     "name": "stdout",
     "output_type": "stream",
     "text": [
      "124\n",
      "As per Census 2011, Gender ratio of India is  None\n"
     ]
    }
   ],
   "source": [
    "print(data[:45],print(int(num1)+int(num2)))"
   ]
  },
  {
   "cell_type": "code",
   "execution_count": 23,
   "metadata": {},
   "outputs": [
    {
     "name": "stdout",
     "output_type": "stream",
     "text": [
      "Please enter the amount of water (kilograms) : 10\n",
      "Please enter the initial temperature of water (degree celsius) : 15\n",
      "Please enter the final temperature of water (degree celsius) : 60\n",
      "Energy required to heat the water = 1882800.0 joules\n"
     ]
    }
   ],
   "source": [
    "M=float(input('Please enter the amount of water (kilograms) : '))\n",
    "initialTemperature=float(input('Please enter the initial temperature of water (degree celsius) : '))\n",
    "finalTemperature=float(input('Please enter the final temperature of water (degree celsius) : '))\n",
    "Q = M * 4184 * (finalTemperature - initialTemperature)\n",
    "print(f'Energy required to heat the water = {Q} joules')"
   ]
  },
  {
   "cell_type": "code",
   "execution_count": 24,
   "metadata": {},
   "outputs": [
    {
     "name": "stdout",
     "output_type": "stream",
     "text": [
      "N : 5\n",
      "ZZZZZOOOOOOOOOO\n"
     ]
    }
   ],
   "source": [
    "x=int(input('N : '))\n",
    "Z='Z'*x\n",
    "O='O'*x*2\n",
    "print(Z+O)"
   ]
  },
  {
   "cell_type": "code",
   "execution_count": 25,
   "metadata": {},
   "outputs": [
    {
     "name": "stdout",
     "output_type": "stream",
     "text": [
      "Enter 1st integer : 3\n",
      "Enter 2nd integer : 2\n",
      "9\n",
      "1\n",
      "4\n"
     ]
    }
   ],
   "source": [
    "x=int(input('Enter 1st integer : '))\n",
    "y=int(input('Enter 2nd integer : '))\n",
    "pow=x**y\n",
    "div=x//y\n",
    "print(pow)\n",
    "print(div)\n",
    "print(div^(x+y))"
   ]
  }
 ],
 "metadata": {
  "kernelspec": {
   "display_name": "Python 3",
   "language": "python",
   "name": "python3"
  },
  "language_info": {
   "codemirror_mode": {
    "name": "ipython",
    "version": 3
   },
   "file_extension": ".py",
   "mimetype": "text/x-python",
   "name": "python",
   "nbconvert_exporter": "python",
   "pygments_lexer": "ipython3",
   "version": "3.7.6"
  }
 },
 "nbformat": 4,
 "nbformat_minor": 4
}
